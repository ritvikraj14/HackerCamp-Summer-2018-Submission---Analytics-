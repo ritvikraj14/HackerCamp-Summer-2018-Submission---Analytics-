{
 "cells": [
  {
   "cell_type": "code",
   "execution_count": 83,
   "metadata": {
    "collapsed": true
   },
   "outputs": [],
   "source": [
    "import pandas as pd\n",
    "import numpy as np"
   ]
  },
  {
   "cell_type": "code",
   "execution_count": 84,
   "metadata": {
    "collapsed": true
   },
   "outputs": [],
   "source": [
    "headings  = ['Last_name', 'Date_of_birth', 'Gender', 'First_name']"
   ]
  },
  {
   "cell_type": "code",
   "execution_count": 85,
   "metadata": {
    "collapsed": true
   },
   "outputs": [],
   "source": [
    "data = pd.read_csv('Deduplication Problem - Sample Dataset.csv', names = headings,skiprows = 1)"
   ]
  },
  {
   "cell_type": "code",
   "execution_count": 86,
   "metadata": {},
   "outputs": [
    {
     "data": {
      "text/html": [
       "<div>\n",
       "<style>\n",
       "    .dataframe thead tr:only-child th {\n",
       "        text-align: right;\n",
       "    }\n",
       "\n",
       "    .dataframe thead th {\n",
       "        text-align: left;\n",
       "    }\n",
       "\n",
       "    .dataframe tbody tr th {\n",
       "        vertical-align: top;\n",
       "    }\n",
       "</style>\n",
       "<table border=\"1\" class=\"dataframe\">\n",
       "  <thead>\n",
       "    <tr style=\"text-align: right;\">\n",
       "      <th></th>\n",
       "      <th>Last_name</th>\n",
       "      <th>Date_of_birth</th>\n",
       "      <th>Gender</th>\n",
       "      <th>First_name</th>\n",
       "    </tr>\n",
       "  </thead>\n",
       "  <tbody>\n",
       "    <tr>\n",
       "      <th>0</th>\n",
       "      <td>SMITH JR</td>\n",
       "      <td>01/03/68</td>\n",
       "      <td>F</td>\n",
       "      <td>WILLIAM</td>\n",
       "    </tr>\n",
       "    <tr>\n",
       "      <th>1</th>\n",
       "      <td>ROTHMEYER JR</td>\n",
       "      <td>01/03/68</td>\n",
       "      <td>F</td>\n",
       "      <td>WILLIAM</td>\n",
       "    </tr>\n",
       "    <tr>\n",
       "      <th>2</th>\n",
       "      <td>ASBY JR</td>\n",
       "      <td>01/03/68</td>\n",
       "      <td>F</td>\n",
       "      <td>WILLIAM</td>\n",
       "    </tr>\n",
       "    <tr>\n",
       "      <th>3</th>\n",
       "      <td>SALTER JR</td>\n",
       "      <td>01/03/68</td>\n",
       "      <td>F</td>\n",
       "      <td>WILLIAM</td>\n",
       "    </tr>\n",
       "    <tr>\n",
       "      <th>4</th>\n",
       "      <td>SALTER JR</td>\n",
       "      <td>01/03/68</td>\n",
       "      <td>F</td>\n",
       "      <td>WILLIAM</td>\n",
       "    </tr>\n",
       "  </tbody>\n",
       "</table>\n",
       "</div>"
      ],
      "text/plain": [
       "      Last_name Date_of_birth Gender First_name\n",
       "0      SMITH JR      01/03/68      F    WILLIAM\n",
       "1  ROTHMEYER JR      01/03/68      F    WILLIAM\n",
       "2       ASBY JR      01/03/68      F    WILLIAM\n",
       "3     SALTER JR      01/03/68      F    WILLIAM\n",
       "4     SALTER JR      01/03/68      F    WILLIAM"
      ]
     },
     "execution_count": 86,
     "metadata": {},
     "output_type": "execute_result"
    }
   ],
   "source": [
    "data.head()"
   ]
  },
  {
   "cell_type": "code",
   "execution_count": 87,
   "metadata": {},
   "outputs": [
    {
     "data": {
      "text/plain": [
       "Last_name        SMITH JR\n",
       "Date_of_birth    01/03/68\n",
       "Gender                  F\n",
       "First_name        WILLIAM\n",
       "Name: 0, dtype: object"
      ]
     },
     "execution_count": 87,
     "metadata": {},
     "output_type": "execute_result"
    }
   ],
   "source": [
    "data.loc[0]"
   ]
  },
  {
   "cell_type": "code",
   "execution_count": 88,
   "metadata": {},
   "outputs": [
    {
     "data": {
      "text/html": [
       "<div>\n",
       "<style>\n",
       "    .dataframe thead tr:only-child th {\n",
       "        text-align: right;\n",
       "    }\n",
       "\n",
       "    .dataframe thead th {\n",
       "        text-align: left;\n",
       "    }\n",
       "\n",
       "    .dataframe tbody tr th {\n",
       "        vertical-align: top;\n",
       "    }\n",
       "</style>\n",
       "<table border=\"1\" class=\"dataframe\">\n",
       "  <thead>\n",
       "    <tr style=\"text-align: right;\">\n",
       "      <th></th>\n",
       "      <th>Last_name</th>\n",
       "      <th>Date_of_birth</th>\n",
       "      <th>Gender</th>\n",
       "      <th>First_name</th>\n",
       "    </tr>\n",
       "  </thead>\n",
       "  <tbody>\n",
       "    <tr>\n",
       "      <th>98</th>\n",
       "      <td>HANNA</td>\n",
       "      <td>24/11/34</td>\n",
       "      <td>M</td>\n",
       "      <td>ADDISON</td>\n",
       "    </tr>\n",
       "    <tr>\n",
       "      <th>99</th>\n",
       "      <td>GALETICH JR</td>\n",
       "      <td>15/10/32</td>\n",
       "      <td>M</td>\n",
       "      <td>ADDISON</td>\n",
       "    </tr>\n",
       "    <tr>\n",
       "      <th>100</th>\n",
       "      <td>FUNARO JONES</td>\n",
       "      <td>06/12/37</td>\n",
       "      <td>F</td>\n",
       "      <td>HARRIET</td>\n",
       "    </tr>\n",
       "    <tr>\n",
       "      <th>101</th>\n",
       "      <td>FUNARO J</td>\n",
       "      <td>06/12/37</td>\n",
       "      <td>F</td>\n",
       "      <td>HARRIET</td>\n",
       "    </tr>\n",
       "    <tr>\n",
       "      <th>102</th>\n",
       "      <td>FUNARO</td>\n",
       "      <td>06/12/37</td>\n",
       "      <td>F</td>\n",
       "      <td>HARRIET</td>\n",
       "    </tr>\n",
       "  </tbody>\n",
       "</table>\n",
       "</div>"
      ],
      "text/plain": [
       "        Last_name Date_of_birth Gender First_name\n",
       "98          HANNA      24/11/34      M    ADDISON\n",
       "99    GALETICH JR      15/10/32      M    ADDISON\n",
       "100  FUNARO JONES      06/12/37      F    HARRIET\n",
       "101      FUNARO J      06/12/37      F    HARRIET\n",
       "102        FUNARO      06/12/37      F    HARRIET"
      ]
     },
     "execution_count": 88,
     "metadata": {},
     "output_type": "execute_result"
    }
   ],
   "source": [
    "data.tail()"
   ]
  },
  {
   "cell_type": "code",
   "execution_count": 89,
   "metadata": {
    "collapsed": true
   },
   "outputs": [],
   "source": [
    "data['Full_name'] = data['First_name'] + ' ' + data['Last_name'] + ' ' + data['Date_of_birth']"
   ]
  },
  {
   "cell_type": "code",
   "execution_count": 90,
   "metadata": {},
   "outputs": [
    {
     "data": {
      "text/html": [
       "<div>\n",
       "<style>\n",
       "    .dataframe thead tr:only-child th {\n",
       "        text-align: right;\n",
       "    }\n",
       "\n",
       "    .dataframe thead th {\n",
       "        text-align: left;\n",
       "    }\n",
       "\n",
       "    .dataframe tbody tr th {\n",
       "        vertical-align: top;\n",
       "    }\n",
       "</style>\n",
       "<table border=\"1\" class=\"dataframe\">\n",
       "  <thead>\n",
       "    <tr style=\"text-align: right;\">\n",
       "      <th></th>\n",
       "      <th>Last_name</th>\n",
       "      <th>Date_of_birth</th>\n",
       "      <th>Gender</th>\n",
       "      <th>First_name</th>\n",
       "      <th>Full_name</th>\n",
       "    </tr>\n",
       "  </thead>\n",
       "  <tbody>\n",
       "    <tr>\n",
       "      <th>0</th>\n",
       "      <td>SMITH JR</td>\n",
       "      <td>01/03/68</td>\n",
       "      <td>F</td>\n",
       "      <td>WILLIAM</td>\n",
       "      <td>WILLIAM SMITH JR 01/03/68</td>\n",
       "    </tr>\n",
       "    <tr>\n",
       "      <th>1</th>\n",
       "      <td>ROTHMEYER JR</td>\n",
       "      <td>01/03/68</td>\n",
       "      <td>F</td>\n",
       "      <td>WILLIAM</td>\n",
       "      <td>WILLIAM ROTHMEYER JR 01/03/68</td>\n",
       "    </tr>\n",
       "    <tr>\n",
       "      <th>2</th>\n",
       "      <td>ASBY JR</td>\n",
       "      <td>01/03/68</td>\n",
       "      <td>F</td>\n",
       "      <td>WILLIAM</td>\n",
       "      <td>WILLIAM ASBY JR 01/03/68</td>\n",
       "    </tr>\n",
       "    <tr>\n",
       "      <th>3</th>\n",
       "      <td>SALTER JR</td>\n",
       "      <td>01/03/68</td>\n",
       "      <td>F</td>\n",
       "      <td>WILLIAM</td>\n",
       "      <td>WILLIAM SALTER JR 01/03/68</td>\n",
       "    </tr>\n",
       "    <tr>\n",
       "      <th>4</th>\n",
       "      <td>SALTER JR</td>\n",
       "      <td>01/03/68</td>\n",
       "      <td>F</td>\n",
       "      <td>WILLIAM</td>\n",
       "      <td>WILLIAM SALTER JR 01/03/68</td>\n",
       "    </tr>\n",
       "  </tbody>\n",
       "</table>\n",
       "</div>"
      ],
      "text/plain": [
       "      Last_name Date_of_birth Gender First_name                      Full_name\n",
       "0      SMITH JR      01/03/68      F    WILLIAM      WILLIAM SMITH JR 01/03/68\n",
       "1  ROTHMEYER JR      01/03/68      F    WILLIAM  WILLIAM ROTHMEYER JR 01/03/68\n",
       "2       ASBY JR      01/03/68      F    WILLIAM       WILLIAM ASBY JR 01/03/68\n",
       "3     SALTER JR      01/03/68      F    WILLIAM     WILLIAM SALTER JR 01/03/68\n",
       "4     SALTER JR      01/03/68      F    WILLIAM     WILLIAM SALTER JR 01/03/68"
      ]
     },
     "execution_count": 90,
     "metadata": {},
     "output_type": "execute_result"
    }
   ],
   "source": [
    "data.head()"
   ]
  },
  {
   "cell_type": "code",
   "execution_count": 91,
   "metadata": {
    "collapsed": true
   },
   "outputs": [],
   "source": [
    "result = {}"
   ]
  },
  {
   "cell_type": "code",
   "execution_count": 92,
   "metadata": {},
   "outputs": [],
   "source": [
    "for i in range(0, 102):\n",
    "    a = data.loc[i]\n",
    "    temp = a[4]\n",
    "    p = np.array(a[0:4])\n",
    "    if temp not in result:\n",
    "        result[temp] = []\n",
    "        result[temp].append(p)"
   ]
  },
  {
   "cell_type": "code",
   "execution_count": 94,
   "metadata": {},
   "outputs": [
    {
     "data": {
      "text/plain": [
       "{'ADDISON GALETICH JR 15/10/32': [array(['GALETICH JR', '15/10/32', 'M', 'ADDISON'], dtype=object)],\n",
       " 'ADDISON HANNA 24/11/34': [array(['HANNA', '24/11/34', 'M', 'ADDISON'], dtype=object)],\n",
       " 'ADDISON J HANNA 24/11/34': [array(['HANNA', '24/11/34', 'M', 'ADDISON J'], dtype=object)],\n",
       " 'ADDISON JOHN HANNA 24/11/34': [array(['HANNA', '24/11/34', 'M', 'ADDISON JOHN'], dtype=object)],\n",
       " 'BILL BLAND JR 21/02/62': [array(['BLAND JR', '21/02/62', 'F', 'BILL'], dtype=object)],\n",
       " 'BOB MICHAELSON JR 09/04/47': [array(['MICHAELSON JR', '09/04/47', 'M', 'BOB'], dtype=object)],\n",
       " 'CLARENCE GRIFFIN JR 07/05/37': [array(['GRIFFIN JR', '07/05/37', 'M', 'CLARENCE'], dtype=object)],\n",
       " 'CLIFFORD GRIFFIN JR 07/05/37': [array(['GRIFFIN JR', '07/05/37', 'M', 'CLIFFORD'], dtype=object)],\n",
       " 'DARH GRIFFIN JR 07/10/37': [array(['GRIFFIN JR', '07/10/37', 'M', 'DARH'], dtype=object)],\n",
       " 'DARL GRIFFIN JR 07/05/37': [array(['GRIFFIN JR', '07/05/37', 'M', 'DARL'], dtype=object)],\n",
       " 'DARL GRIFFIN JR 10/07/37': [array(['GRIFFIN JR', '10/07/37', 'M', 'DARL'], dtype=object)],\n",
       " 'DONALD CLARK 09/02/45': [array(['CLARK', '09/02/45', 'M', 'DONALD'], dtype=object)],\n",
       " 'GEORGE FAGEN JR 07/10/37': [array(['FAGEN JR', '07/10/37', 'M', 'GEORGE'], dtype=object)],\n",
       " 'HAROLD CHAVAS JR 07/10/37': [array(['CHAVAS JR', '07/10/37', 'M', 'HAROLD'], dtype=object)],\n",
       " 'HAROLD FAGEN JR 07/10/37': [array(['FAGEN JR', '07/10/37', 'M', 'HAROLD'], dtype=object)],\n",
       " 'HAROLD HOUGHTON JR 07/10/37': [array(['HOUGHTON JR', '07/10/37', 'M', 'HAROLD'], dtype=object)],\n",
       " 'HAROLD LARSON JR 09/06/39': [array(['LARSON JR', '09/06/39', 'M', 'HAROLD'], dtype=object)],\n",
       " 'HAROLD MELVIN JR 07/10/37': [array(['MELVIN JR', '07/10/37', 'M', 'HAROLD'], dtype=object)],\n",
       " 'HAROLD MICHAELSON JR 07/10/37': [array(['MICHAELSON JR', '07/10/37', 'M', 'HAROLD'], dtype=object)],\n",
       " 'HAROLD MUSTAPHA JR 07/10/37': [array(['MUSTAPHA JR', '07/10/37', 'M', 'HAROLD'], dtype=object)],\n",
       " 'HAROLD SMITH JR 07/10/37': [array(['SMITH JR', '07/10/37', 'M', 'HAROLD'], dtype=object)],\n",
       " 'HARRIET FUNARO J 06/12/37': [array(['FUNARO J', '06/12/37', 'F', 'HARRIET'], dtype=object)],\n",
       " 'HARRIET FUNARO JONES 06/12/37': [array(['FUNARO JONES', '06/12/37', 'F', 'HARRIET'], dtype=object)],\n",
       " 'JACK MICHAELSON JR 09/06/39': [array(['MICHAELSON JR', '09/06/39', 'M', 'JACK'], dtype=object)],\n",
       " 'JACK MICHAELSON JR 24/06/39': [array(['MICHAELSON JR', '24/06/39', 'M', 'JACK'], dtype=object)],\n",
       " 'JAMES MICHAELSON JR 24/06/39': [array(['MICHAELSON JR', '24/06/39', 'M', 'JAMES'], dtype=object)],\n",
       " 'JOHN CAIN JR 20/01/46': [array(['CAIN JR', '20/01/46', 'M', 'JOHN'], dtype=object)],\n",
       " 'JOHN CLARK 09/06/45': [array(['CLARK', '09/06/45', 'M', 'JOHN'], dtype=object)],\n",
       " 'JOHN CLARK 16/12/44': [array(['CLARK', '16/12/44', 'M', 'JOHN'], dtype=object)],\n",
       " 'JOHN CLARK JR 16/12/44': [array(['CLARK JR', '16/12/44', 'M', 'JOHN'], dtype=object)],\n",
       " 'JOHN LIND JR 20/01/46': [array(['LIND JR', '20/01/46', 'M', 'JOHN'], dtype=object)],\n",
       " 'JOHN MICHAELSON JR 16/12/44': [array(['MICHAELSON JR', '16/12/44', 'M', 'JOHN'], dtype=object)],\n",
       " 'JOHN MICHAELSON JR 24/04/40': [array(['MICHAELSON JR', '24/04/40', 'M', 'JOHN'], dtype=object)],\n",
       " 'JOHN MICHAELSON JR 24/06/39': [array(['MICHAELSON JR', '24/06/39', 'M', 'JOHN'], dtype=object)],\n",
       " 'KENNETH LIND JR 31/01/46': [array(['LIND JR', '31/01/46', 'M', 'KENNETH'], dtype=object)],\n",
       " 'LAWRENCE HOUGHTON JR 31/01/46': [array(['HOUGHTON JR', '31/01/46', 'M', 'LAWRENCE'], dtype=object)],\n",
       " 'LAWRENCE LIND JR 31/01/46': [array(['LIND JR', '31/01/46', 'M', 'LAWRENCE'], dtype=object)],\n",
       " 'OWAN MUSTAPHA JR 11/03/47': [array(['MUSTAPHA JR', '11/03/47', 'M', 'OWAN'], dtype=object)],\n",
       " 'OWEN MUSTAPHA JR 11/03/47': [array(['MUSTAPHA JR', '11/03/47', 'M', 'OWEN'], dtype=object)],\n",
       " 'ROBERT MICHAELSON JR 09/04/47': [array(['MICHAELSON JR', '09/04/47', 'M', 'ROBERT'], dtype=object)],\n",
       " 'RON CARLSON JR 25/10/53': [array(['CARLSON JR', '25/10/53', 'F', 'RON'], dtype=object)],\n",
       " 'RONALD CLARK 09/02/45': [array(['CLARK', '09/02/45', 'M', 'RONALD'], dtype=object)],\n",
       " 'ROY CARLSON JR 25/10/53': [array(['CARLSON JR', '25/10/53', 'F', 'ROY'], dtype=object)],\n",
       " 'ROY DUNCAN JR 25/10/53': [array(['DUNCAN JR', '25/10/53', 'F', 'ROY'], dtype=object)],\n",
       " 'ROY MICHAELSON 25/10/53': [array(['MICHAELSON', '25/10/53', 'M', 'ROY'], dtype=object)],\n",
       " 'ROY MICHAELSON JR 01/05/51': [array(['MICHAELSON JR', '01/05/51', 'M', 'ROY'], dtype=object)],\n",
       " 'ROY MICHAELSON JR 09/04/47': [array(['MICHAELSON JR', '09/04/47', 'M', 'ROY'], dtype=object)],\n",
       " 'ROY MICHAELSON JR 17/06/48': [array(['MICHAELSON JR', '17/06/48', 'M', 'ROY'], dtype=object)],\n",
       " 'ROY MICHAELSON JR 25/10/53': [array(['MICHAELSON JR', '25/10/53', 'M', 'ROY'], dtype=object)],\n",
       " 'THOMAS DUNCAN JR 25/10/53': [array(['DUNCAN JR', '25/10/53', 'F', 'THOMAS'], dtype=object)],\n",
       " 'WILLIAM ASBY JR 01/03/68': [array(['ASBY JR', '01/03/68', 'F', 'WILLIAM'], dtype=object)],\n",
       " 'WILLIAM BLAND 21/02/62': [array(['BLAND', '21/02/62', 'F', 'WILLIAM'], dtype=object)],\n",
       " 'WILLIAM BLAND III 21/02/62': [array(['BLAND III', '21/02/62', 'F', 'WILLIAM'], dtype=object)],\n",
       " 'WILLIAM BLAND JR 08/06/54': [array(['BLAND JR', '08/06/54', 'F', 'WILLIAM'], dtype=object)],\n",
       " 'WILLIAM BLAND JR 21/02/62': [array(['BLAND JR', '21/02/62', 'F', 'WILLIAM'], dtype=object)],\n",
       " 'WILLIAM BLAND JR 25/10/53': [array(['BLAND JR', '25/10/53', 'F', 'WILLIAM'], dtype=object)],\n",
       " 'WILLIAM ROTHMEYER JR 01/03/68': [array(['ROTHMEYER JR', '01/03/68', 'F', 'WILLIAM'], dtype=object)],\n",
       " 'WILLIAM SALTER JR 01/03/68': [array(['SALTER JR', '01/03/68', 'F', 'WILLIAM'], dtype=object)],\n",
       " 'WILLIAM SHAFFER JR 21/02/62': [array(['SHAFFER JR', '21/02/62', 'F', 'WILLIAM'], dtype=object)],\n",
       " 'WILLIAM SHAFFER JR 25/10/53': [array(['SHAFFER JR', '25/10/53', 'F', 'WILLIAM'], dtype=object)],\n",
       " 'WILLIAM SMITH JR 01/03/68': [array(['SMITH JR', '01/03/68', 'F', 'WILLIAM'], dtype=object)]}"
      ]
     },
     "execution_count": 94,
     "metadata": {},
     "output_type": "execute_result"
    }
   ],
   "source": [
    "result"
   ]
  },
  {
   "cell_type": "code",
   "execution_count": 95,
   "metadata": {
    "collapsed": true
   },
   "outputs": [],
   "source": [
    "clean = pd.DataFrame(result).transpose()"
   ]
  },
  {
   "cell_type": "code",
   "execution_count": 96,
   "metadata": {},
   "outputs": [
    {
     "data": {
      "text/html": [
       "<div>\n",
       "<style>\n",
       "    .dataframe thead tr:only-child th {\n",
       "        text-align: right;\n",
       "    }\n",
       "\n",
       "    .dataframe thead th {\n",
       "        text-align: left;\n",
       "    }\n",
       "\n",
       "    .dataframe tbody tr th {\n",
       "        vertical-align: top;\n",
       "    }\n",
       "</style>\n",
       "<table border=\"1\" class=\"dataframe\">\n",
       "  <thead>\n",
       "    <tr style=\"text-align: right;\">\n",
       "      <th></th>\n",
       "      <th>0</th>\n",
       "    </tr>\n",
       "  </thead>\n",
       "  <tbody>\n",
       "    <tr>\n",
       "      <th>ADDISON GALETICH JR 15/10/32</th>\n",
       "      <td>[GALETICH JR, 15/10/32, M, ADDISON]</td>\n",
       "    </tr>\n",
       "    <tr>\n",
       "      <th>ADDISON HANNA 24/11/34</th>\n",
       "      <td>[HANNA, 24/11/34, M, ADDISON]</td>\n",
       "    </tr>\n",
       "    <tr>\n",
       "      <th>ADDISON J HANNA 24/11/34</th>\n",
       "      <td>[HANNA, 24/11/34, M, ADDISON J]</td>\n",
       "    </tr>\n",
       "    <tr>\n",
       "      <th>ADDISON JOHN HANNA 24/11/34</th>\n",
       "      <td>[HANNA, 24/11/34, M, ADDISON JOHN]</td>\n",
       "    </tr>\n",
       "    <tr>\n",
       "      <th>BILL BLAND JR 21/02/62</th>\n",
       "      <td>[BLAND JR, 21/02/62, F, BILL]</td>\n",
       "    </tr>\n",
       "  </tbody>\n",
       "</table>\n",
       "</div>"
      ],
      "text/plain": [
       "                                                                0\n",
       "ADDISON GALETICH JR 15/10/32  [GALETICH JR, 15/10/32, M, ADDISON]\n",
       "ADDISON HANNA 24/11/34              [HANNA, 24/11/34, M, ADDISON]\n",
       "ADDISON J HANNA 24/11/34          [HANNA, 24/11/34, M, ADDISON J]\n",
       "ADDISON JOHN HANNA 24/11/34    [HANNA, 24/11/34, M, ADDISON JOHN]\n",
       "BILL BLAND JR 21/02/62              [BLAND JR, 21/02/62, F, BILL]"
      ]
     },
     "execution_count": 96,
     "metadata": {},
     "output_type": "execute_result"
    }
   ],
   "source": [
    "clean.head()"
   ]
  },
  {
   "cell_type": "code",
   "execution_count": 97,
   "metadata": {},
   "outputs": [],
   "source": [
    "j = 0\n",
    "\n",
    "for k in headings:\n",
    "    clean[k] = [clean.iloc[i,0][j] for i in range(0,61)]\n",
    "    j += 1\n",
    "    \n",
    "    \n",
    "del clean[0]\n",
    "clean.index = range(61)"
   ]
  },
  {
   "cell_type": "code",
   "execution_count": 98,
   "metadata": {},
   "outputs": [
    {
     "data": {
      "text/html": [
       "<div>\n",
       "<style>\n",
       "    .dataframe thead tr:only-child th {\n",
       "        text-align: right;\n",
       "    }\n",
       "\n",
       "    .dataframe thead th {\n",
       "        text-align: left;\n",
       "    }\n",
       "\n",
       "    .dataframe tbody tr th {\n",
       "        vertical-align: top;\n",
       "    }\n",
       "</style>\n",
       "<table border=\"1\" class=\"dataframe\">\n",
       "  <thead>\n",
       "    <tr style=\"text-align: right;\">\n",
       "      <th></th>\n",
       "      <th>Last_name</th>\n",
       "      <th>Date_of_birth</th>\n",
       "      <th>Gender</th>\n",
       "      <th>First_name</th>\n",
       "    </tr>\n",
       "  </thead>\n",
       "  <tbody>\n",
       "    <tr>\n",
       "      <th>0</th>\n",
       "      <td>GALETICH JR</td>\n",
       "      <td>15/10/32</td>\n",
       "      <td>M</td>\n",
       "      <td>ADDISON</td>\n",
       "    </tr>\n",
       "    <tr>\n",
       "      <th>1</th>\n",
       "      <td>HANNA</td>\n",
       "      <td>24/11/34</td>\n",
       "      <td>M</td>\n",
       "      <td>ADDISON</td>\n",
       "    </tr>\n",
       "    <tr>\n",
       "      <th>2</th>\n",
       "      <td>HANNA</td>\n",
       "      <td>24/11/34</td>\n",
       "      <td>M</td>\n",
       "      <td>ADDISON J</td>\n",
       "    </tr>\n",
       "    <tr>\n",
       "      <th>3</th>\n",
       "      <td>HANNA</td>\n",
       "      <td>24/11/34</td>\n",
       "      <td>M</td>\n",
       "      <td>ADDISON JOHN</td>\n",
       "    </tr>\n",
       "    <tr>\n",
       "      <th>4</th>\n",
       "      <td>BLAND JR</td>\n",
       "      <td>21/02/62</td>\n",
       "      <td>F</td>\n",
       "      <td>BILL</td>\n",
       "    </tr>\n",
       "  </tbody>\n",
       "</table>\n",
       "</div>"
      ],
      "text/plain": [
       "     Last_name Date_of_birth Gender    First_name\n",
       "0  GALETICH JR      15/10/32      M       ADDISON\n",
       "1        HANNA      24/11/34      M       ADDISON\n",
       "2        HANNA      24/11/34      M     ADDISON J\n",
       "3        HANNA      24/11/34      M  ADDISON JOHN\n",
       "4     BLAND JR      21/02/62      F          BILL"
      ]
     },
     "execution_count": 98,
     "metadata": {},
     "output_type": "execute_result"
    }
   ],
   "source": [
    "clean.head()"
   ]
  },
  {
   "cell_type": "code",
   "execution_count": 99,
   "metadata": {},
   "outputs": [
    {
     "data": {
      "text/html": [
       "<div>\n",
       "<style>\n",
       "    .dataframe thead tr:only-child th {\n",
       "        text-align: right;\n",
       "    }\n",
       "\n",
       "    .dataframe thead th {\n",
       "        text-align: left;\n",
       "    }\n",
       "\n",
       "    .dataframe tbody tr th {\n",
       "        vertical-align: top;\n",
       "    }\n",
       "</style>\n",
       "<table border=\"1\" class=\"dataframe\">\n",
       "  <thead>\n",
       "    <tr style=\"text-align: right;\">\n",
       "      <th></th>\n",
       "      <th>Last_name</th>\n",
       "      <th>Date_of_birth</th>\n",
       "      <th>Gender</th>\n",
       "      <th>First_name</th>\n",
       "    </tr>\n",
       "  </thead>\n",
       "  <tbody>\n",
       "    <tr>\n",
       "      <th>56</th>\n",
       "      <td>ROTHMEYER JR</td>\n",
       "      <td>01/03/68</td>\n",
       "      <td>F</td>\n",
       "      <td>WILLIAM</td>\n",
       "    </tr>\n",
       "    <tr>\n",
       "      <th>57</th>\n",
       "      <td>SALTER JR</td>\n",
       "      <td>01/03/68</td>\n",
       "      <td>F</td>\n",
       "      <td>WILLIAM</td>\n",
       "    </tr>\n",
       "    <tr>\n",
       "      <th>58</th>\n",
       "      <td>SHAFFER JR</td>\n",
       "      <td>21/02/62</td>\n",
       "      <td>F</td>\n",
       "      <td>WILLIAM</td>\n",
       "    </tr>\n",
       "    <tr>\n",
       "      <th>59</th>\n",
       "      <td>SHAFFER JR</td>\n",
       "      <td>25/10/53</td>\n",
       "      <td>F</td>\n",
       "      <td>WILLIAM</td>\n",
       "    </tr>\n",
       "    <tr>\n",
       "      <th>60</th>\n",
       "      <td>SMITH JR</td>\n",
       "      <td>01/03/68</td>\n",
       "      <td>F</td>\n",
       "      <td>WILLIAM</td>\n",
       "    </tr>\n",
       "  </tbody>\n",
       "</table>\n",
       "</div>"
      ],
      "text/plain": [
       "       Last_name Date_of_birth Gender First_name\n",
       "56  ROTHMEYER JR      01/03/68      F    WILLIAM\n",
       "57     SALTER JR      01/03/68      F    WILLIAM\n",
       "58    SHAFFER JR      21/02/62      F    WILLIAM\n",
       "59    SHAFFER JR      25/10/53      F    WILLIAM\n",
       "60      SMITH JR      01/03/68      F    WILLIAM"
      ]
     },
     "execution_count": 99,
     "metadata": {},
     "output_type": "execute_result"
    }
   ],
   "source": [
    "clean.tail()"
   ]
  }
 ],
 "metadata": {
  "kernelspec": {
   "display_name": "Python 2",
   "language": "python",
   "name": "python2"
  },
  "language_info": {
   "codemirror_mode": {
    "name": "ipython",
    "version": 2
   },
   "file_extension": ".py",
   "mimetype": "text/x-python",
   "name": "python",
   "nbconvert_exporter": "python",
   "pygments_lexer": "ipython2",
   "version": "2.7.14"
  }
 },
 "nbformat": 4,
 "nbformat_minor": 2
}
